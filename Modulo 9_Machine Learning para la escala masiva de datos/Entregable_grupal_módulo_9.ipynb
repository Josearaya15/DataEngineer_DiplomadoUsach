{
 "cells": [
  {
   "cell_type": "code",
   "execution_count": 1,
   "metadata": {
    "executionInfo": {
     "elapsed": 388,
     "status": "ok",
     "timestamp": 1735519224516,
     "user": {
      "displayName": "jose araya",
      "userId": "00838808485115670861"
     },
     "user_tz": 180
    },
    "id": "ChktBBg6quyr"
   },
   "outputs": [],
   "source": [
    "import pandas as pd\n",
    "import numpy as np\n",
    "import matplotlib.pyplot as plt\n",
    "import seaborn as sns\n",
    "import datetime\n",
    "from sklearn.model_selection import train_test_split\n",
    "from sklearn.metrics import mean_absolute_error,mean_squared_error,r2_score,explained_variance_score, mean_absolute_percentage_error, root_mean_squared_error\n",
    "from sklearn.linear_model import LinearRegression\n",
    "from sklearn.linear_model import Ridge\n",
    "from sklearn.linear_model import RidgeCV\n",
    "from sklearn.linear_model import Lasso\n",
    "from sklearn.linear_model import LassoCV\n",
    "from sklearn.linear_model import ElasticNet\n",
    "from sklearn.linear_model import ElasticNetCV\n",
    "from sklearn.tree import DecisionTreeRegressor\n",
    "from sklearn.model_selection import GridSearchCV"
   ]
  },
  {
   "cell_type": "code",
   "execution_count": 9,
   "metadata": {
    "colab": {
     "base_uri": "https://localhost:8080/",
     "height": 206
    },
    "executionInfo": {
     "elapsed": 540,
     "status": "ok",
     "timestamp": 1735518683649,
     "user": {
      "displayName": "jose araya",
      "userId": "00838808485115670861"
     },
     "user_tz": 180
    },
    "id": "GoCsSqAnquyt",
    "outputId": "6c8d5944-26f2-4cb8-ebf2-5c91cf49ff18"
   },
   "outputs": [
    {
     "data": {
      "text/html": [
       "<div>\n",
       "<style scoped>\n",
       "    .dataframe tbody tr th:only-of-type {\n",
       "        vertical-align: middle;\n",
       "    }\n",
       "\n",
       "    .dataframe tbody tr th {\n",
       "        vertical-align: top;\n",
       "    }\n",
       "\n",
       "    .dataframe thead th {\n",
       "        text-align: right;\n",
       "    }\n",
       "</style>\n",
       "<table border=\"1\" class=\"dataframe\">\n",
       "  <thead>\n",
       "    <tr style=\"text-align: right;\">\n",
       "      <th></th>\n",
       "      <th>mpg</th>\n",
       "      <th>cylinders</th>\n",
       "      <th>displacement</th>\n",
       "      <th>horsepower</th>\n",
       "      <th>weight</th>\n",
       "      <th>acceleration</th>\n",
       "      <th>model year</th>\n",
       "      <th>origin</th>\n",
       "      <th>car name</th>\n",
       "    </tr>\n",
       "  </thead>\n",
       "  <tbody>\n",
       "    <tr>\n",
       "      <th>345</th>\n",
       "      <td>35.1</td>\n",
       "      <td>4</td>\n",
       "      <td>81.0</td>\n",
       "      <td>60</td>\n",
       "      <td>1760</td>\n",
       "      <td>16.1</td>\n",
       "      <td>81</td>\n",
       "      <td>3</td>\n",
       "      <td>honda civic 1300</td>\n",
       "    </tr>\n",
       "    <tr>\n",
       "      <th>210</th>\n",
       "      <td>19.0</td>\n",
       "      <td>6</td>\n",
       "      <td>156.0</td>\n",
       "      <td>108</td>\n",
       "      <td>2930</td>\n",
       "      <td>15.5</td>\n",
       "      <td>76</td>\n",
       "      <td>3</td>\n",
       "      <td>toyota mark ii</td>\n",
       "    </tr>\n",
       "    <tr>\n",
       "      <th>384</th>\n",
       "      <td>32.0</td>\n",
       "      <td>4</td>\n",
       "      <td>91.0</td>\n",
       "      <td>67</td>\n",
       "      <td>1965</td>\n",
       "      <td>15.7</td>\n",
       "      <td>82</td>\n",
       "      <td>3</td>\n",
       "      <td>honda civic (auto)</td>\n",
       "    </tr>\n",
       "    <tr>\n",
       "      <th>374</th>\n",
       "      <td>23.0</td>\n",
       "      <td>4</td>\n",
       "      <td>151.0</td>\n",
       "      <td>?</td>\n",
       "      <td>3035</td>\n",
       "      <td>20.5</td>\n",
       "      <td>82</td>\n",
       "      <td>1</td>\n",
       "      <td>amc concord dl</td>\n",
       "    </tr>\n",
       "    <tr>\n",
       "      <th>339</th>\n",
       "      <td>26.6</td>\n",
       "      <td>4</td>\n",
       "      <td>151.0</td>\n",
       "      <td>84</td>\n",
       "      <td>2635</td>\n",
       "      <td>16.4</td>\n",
       "      <td>81</td>\n",
       "      <td>1</td>\n",
       "      <td>buick skylark</td>\n",
       "    </tr>\n",
       "    <tr>\n",
       "      <th>294</th>\n",
       "      <td>34.1</td>\n",
       "      <td>4</td>\n",
       "      <td>86.0</td>\n",
       "      <td>65</td>\n",
       "      <td>1975</td>\n",
       "      <td>15.2</td>\n",
       "      <td>79</td>\n",
       "      <td>3</td>\n",
       "      <td>maxda glc deluxe</td>\n",
       "    </tr>\n",
       "    <tr>\n",
       "      <th>74</th>\n",
       "      <td>13.0</td>\n",
       "      <td>8</td>\n",
       "      <td>302.0</td>\n",
       "      <td>140</td>\n",
       "      <td>4294</td>\n",
       "      <td>16.0</td>\n",
       "      <td>72</td>\n",
       "      <td>1</td>\n",
       "      <td>ford gran torino (sw)</td>\n",
       "    </tr>\n",
       "    <tr>\n",
       "      <th>379</th>\n",
       "      <td>36.0</td>\n",
       "      <td>4</td>\n",
       "      <td>98.0</td>\n",
       "      <td>70</td>\n",
       "      <td>2125</td>\n",
       "      <td>17.3</td>\n",
       "      <td>82</td>\n",
       "      <td>1</td>\n",
       "      <td>mercury lynx l</td>\n",
       "    </tr>\n",
       "    <tr>\n",
       "      <th>140</th>\n",
       "      <td>14.0</td>\n",
       "      <td>8</td>\n",
       "      <td>304.0</td>\n",
       "      <td>150</td>\n",
       "      <td>4257</td>\n",
       "      <td>15.5</td>\n",
       "      <td>74</td>\n",
       "      <td>1</td>\n",
       "      <td>amc matador (sw)</td>\n",
       "    </tr>\n",
       "    <tr>\n",
       "      <th>187</th>\n",
       "      <td>17.5</td>\n",
       "      <td>8</td>\n",
       "      <td>305.0</td>\n",
       "      <td>140</td>\n",
       "      <td>4215</td>\n",
       "      <td>13.0</td>\n",
       "      <td>76</td>\n",
       "      <td>1</td>\n",
       "      <td>chevrolet chevelle malibu classic</td>\n",
       "    </tr>\n",
       "  </tbody>\n",
       "</table>\n",
       "</div>"
      ],
      "text/plain": [
       "      mpg  cylinders  displacement horsepower  weight  acceleration  \\\n",
       "345  35.1          4          81.0         60    1760          16.1   \n",
       "210  19.0          6         156.0        108    2930          15.5   \n",
       "384  32.0          4          91.0         67    1965          15.7   \n",
       "374  23.0          4         151.0          ?    3035          20.5   \n",
       "339  26.6          4         151.0         84    2635          16.4   \n",
       "294  34.1          4          86.0         65    1975          15.2   \n",
       "74   13.0          8         302.0        140    4294          16.0   \n",
       "379  36.0          4          98.0         70    2125          17.3   \n",
       "140  14.0          8         304.0        150    4257          15.5   \n",
       "187  17.5          8         305.0        140    4215          13.0   \n",
       "\n",
       "     model year  origin                           car name  \n",
       "345          81       3                   honda civic 1300  \n",
       "210          76       3                     toyota mark ii  \n",
       "384          82       3                 honda civic (auto)  \n",
       "374          82       1                     amc concord dl  \n",
       "339          81       1                      buick skylark  \n",
       "294          79       3                   maxda glc deluxe  \n",
       "74           72       1              ford gran torino (sw)  \n",
       "379          82       1                     mercury lynx l  \n",
       "140          74       1                   amc matador (sw)  \n",
       "187          76       1  chevrolet chevelle malibu classic  "
      ]
     },
     "execution_count": 9,
     "metadata": {},
     "output_type": "execute_result"
    }
   ],
   "source": [
    "#Carga y muestra del dataset\n",
    "automobile_df = pd.read_csv('auto-mpg.csv', sep = \",\")\n",
    "# Ver 5 registros aleatorios\n",
    "automobile_df.sample(10)"
   ]
  },
  {
   "cell_type": "markdown",
   "metadata": {},
   "source": [
    "**Objetivo:** Realizar un modelo de regresión lineal para obtener coeficientes de la variable \"mpg\" "
   ]
  },
  {
   "cell_type": "code",
   "execution_count": 3,
   "metadata": {
    "colab": {
     "base_uri": "https://localhost:8080/"
    },
    "executionInfo": {
     "elapsed": 416,
     "status": "ok",
     "timestamp": 1735518686825,
     "user": {
      "displayName": "jose araya",
      "userId": "00838808485115670861"
     },
     "user_tz": 180
    },
    "id": "6XizchYtquyv",
    "outputId": "68d34f9f-8d27-4ebc-dd55-9775397bff2c"
   },
   "outputs": [
    {
     "data": {
      "text/plain": [
       "(398, 9)"
      ]
     },
     "execution_count": 3,
     "metadata": {},
     "output_type": "execute_result"
    }
   ],
   "source": [
    "#Tamaño del dataset\n",
    "automobile_df.shape"
   ]
  },
  {
   "cell_type": "code",
   "execution_count": 4,
   "metadata": {
    "colab": {
     "base_uri": "https://localhost:8080/"
    },
    "executionInfo": {
     "elapsed": 2,
     "status": "ok",
     "timestamp": 1735518688572,
     "user": {
      "displayName": "jose araya",
      "userId": "00838808485115670861"
     },
     "user_tz": 180
    },
    "id": "P3vpXrTgquyv",
    "outputId": "545cfa7e-3d4d-4b02-c353-75be5d24a0d6"
   },
   "outputs": [
    {
     "name": "stdout",
     "output_type": "stream",
     "text": [
      "<class 'pandas.core.frame.DataFrame'>\n",
      "RangeIndex: 398 entries, 0 to 397\n",
      "Data columns (total 9 columns):\n",
      " #   Column        Non-Null Count  Dtype  \n",
      "---  ------        --------------  -----  \n",
      " 0   mpg           398 non-null    float64\n",
      " 1   cylinders     398 non-null    int64  \n",
      " 2   displacement  398 non-null    float64\n",
      " 3   horsepower    398 non-null    object \n",
      " 4   weight        398 non-null    int64  \n",
      " 5   acceleration  398 non-null    float64\n",
      " 6   model year    398 non-null    int64  \n",
      " 7   origin        398 non-null    int64  \n",
      " 8   car name      398 non-null    object \n",
      "dtypes: float64(3), int64(4), object(2)\n",
      "memory usage: 28.1+ KB\n"
     ]
    }
   ],
   "source": [
    "#Info\n",
    "automobile_df.info()"
   ]
  },
  {
   "cell_type": "code",
   "execution_count": 10,
   "metadata": {
    "colab": {
     "base_uri": "https://localhost:8080/"
    },
    "executionInfo": {
     "elapsed": 765,
     "status": "ok",
     "timestamp": 1735518700626,
     "user": {
      "displayName": "jose araya",
      "userId": "00838808485115670861"
     },
     "user_tz": 180
    },
    "id": "uZBlO2buquyw",
    "outputId": "7311d643-65ad-456f-93e5-08c0f4c9242e"
   },
   "outputs": [
    {
     "data": {
      "text/plain": [
       "(392, 9)"
      ]
     },
     "execution_count": 10,
     "metadata": {},
     "output_type": "execute_result"
    }
   ],
   "source": [
    "#Preparacion de datos\n",
    "automobile_df = automobile_df.replace('?', np.nan)\n",
    "automobile_df = automobile_df.dropna()\n",
    "automobile_df.shape"
   ]
  },
  {
   "cell_type": "code",
   "execution_count": 11,
   "metadata": {
    "executionInfo": {
     "elapsed": 919,
     "status": "ok",
     "timestamp": 1735518714873,
     "user": {
      "displayName": "jose araya",
      "userId": "00838808485115670861"
     },
     "user_tz": 180
    },
    "id": "hg5gIQcnquyw"
   },
   "outputs": [],
   "source": [
    "#Eliminamos columnas que son irrelevantes para el modelo\n",
    "automobile_df.drop(['origin', 'car name'], axis=1, inplace=True)"
   ]
  },
  {
   "cell_type": "code",
   "execution_count": 12,
   "metadata": {
    "executionInfo": {
     "elapsed": 927,
     "status": "ok",
     "timestamp": 1735518754544,
     "user": {
      "displayName": "jose araya",
      "userId": "00838808485115670861"
     },
     "user_tz": 180
    },
    "id": "f0vWDVmqquyx"
   },
   "outputs": [],
   "source": [
    "#Convertimos el formato de ‘model year’ a año completo\n",
    "automobile_df['model year'] = '19' + automobile_df['model year'].astype(str)"
   ]
  },
  {
   "cell_type": "code",
   "execution_count": 13,
   "metadata": {
    "executionInfo": {
     "elapsed": 292,
     "status": "ok",
     "timestamp": 1735518767159,
     "user": {
      "displayName": "jose araya",
      "userId": "00838808485115670861"
     },
     "user_tz": 180
    },
    "id": "bH_rR4xHquyy"
   },
   "outputs": [],
   "source": [
    "#Agregamos la columna age\n",
    "automobile_df['age'] = datetime.datetime.now().year - pd.to_numeric(automobile_df['model year'])"
   ]
  },
  {
   "cell_type": "code",
   "execution_count": 14,
   "metadata": {
    "executionInfo": {
     "elapsed": 769,
     "status": "ok",
     "timestamp": 1735518770679,
     "user": {
      "displayName": "jose araya",
      "userId": "00838808485115670861"
     },
     "user_tz": 180
    },
    "id": "X1T0i3xcquyy"
   },
   "outputs": [],
   "source": [
    "#Eliminamos model year\n",
    "automobile_df.drop(['model year'], axis=1, inplace=True)"
   ]
  },
  {
   "cell_type": "code",
   "execution_count": 15,
   "metadata": {
    "executionInfo": {
     "elapsed": 867,
     "status": "ok",
     "timestamp": 1735518781346,
     "user": {
      "displayName": "jose araya",
      "userId": "00838808485115670861"
     },
     "user_tz": 180
    },
    "id": "7ejrY4_equyz"
   },
   "outputs": [],
   "source": [
    "#Convertimos horsepower en numerico\n",
    "automobile_df['horsepower'] = pd.to_numeric(automobile_df['horsepower'], errors='coerce')"
   ]
  },
  {
   "cell_type": "code",
   "execution_count": 16,
   "metadata": {
    "colab": {
     "base_uri": "https://localhost:8080/",
     "height": 300
    },
    "executionInfo": {
     "elapsed": 545,
     "status": "ok",
     "timestamp": 1735518795973,
     "user": {
      "displayName": "jose araya",
      "userId": "00838808485115670861"
     },
     "user_tz": 180
    },
    "id": "-xRXMfQAquy0",
    "outputId": "9e7005a3-15bc-41c2-d57a-cb5c27cf8cca"
   },
   "outputs": [
    {
     "data": {
      "text/html": [
       "<div>\n",
       "<style scoped>\n",
       "    .dataframe tbody tr th:only-of-type {\n",
       "        vertical-align: middle;\n",
       "    }\n",
       "\n",
       "    .dataframe tbody tr th {\n",
       "        vertical-align: top;\n",
       "    }\n",
       "\n",
       "    .dataframe thead th {\n",
       "        text-align: right;\n",
       "    }\n",
       "</style>\n",
       "<table border=\"1\" class=\"dataframe\">\n",
       "  <thead>\n",
       "    <tr style=\"text-align: right;\">\n",
       "      <th></th>\n",
       "      <th>mpg</th>\n",
       "      <th>cylinders</th>\n",
       "      <th>displacement</th>\n",
       "      <th>horsepower</th>\n",
       "      <th>weight</th>\n",
       "      <th>acceleration</th>\n",
       "      <th>age</th>\n",
       "    </tr>\n",
       "  </thead>\n",
       "  <tbody>\n",
       "    <tr>\n",
       "      <th>count</th>\n",
       "      <td>392.000000</td>\n",
       "      <td>392.000000</td>\n",
       "      <td>392.000000</td>\n",
       "      <td>392.000000</td>\n",
       "      <td>392.000000</td>\n",
       "      <td>392.000000</td>\n",
       "      <td>392.000000</td>\n",
       "    </tr>\n",
       "    <tr>\n",
       "      <th>mean</th>\n",
       "      <td>23.445918</td>\n",
       "      <td>5.471939</td>\n",
       "      <td>194.411990</td>\n",
       "      <td>104.469388</td>\n",
       "      <td>2977.584184</td>\n",
       "      <td>15.541327</td>\n",
       "      <td>48.020408</td>\n",
       "    </tr>\n",
       "    <tr>\n",
       "      <th>std</th>\n",
       "      <td>7.805007</td>\n",
       "      <td>1.705783</td>\n",
       "      <td>104.644004</td>\n",
       "      <td>38.491160</td>\n",
       "      <td>849.402560</td>\n",
       "      <td>2.758864</td>\n",
       "      <td>3.683737</td>\n",
       "    </tr>\n",
       "    <tr>\n",
       "      <th>min</th>\n",
       "      <td>9.000000</td>\n",
       "      <td>3.000000</td>\n",
       "      <td>68.000000</td>\n",
       "      <td>46.000000</td>\n",
       "      <td>1613.000000</td>\n",
       "      <td>8.000000</td>\n",
       "      <td>42.000000</td>\n",
       "    </tr>\n",
       "    <tr>\n",
       "      <th>25%</th>\n",
       "      <td>17.000000</td>\n",
       "      <td>4.000000</td>\n",
       "      <td>105.000000</td>\n",
       "      <td>75.000000</td>\n",
       "      <td>2225.250000</td>\n",
       "      <td>13.775000</td>\n",
       "      <td>45.000000</td>\n",
       "    </tr>\n",
       "    <tr>\n",
       "      <th>50%</th>\n",
       "      <td>22.750000</td>\n",
       "      <td>4.000000</td>\n",
       "      <td>151.000000</td>\n",
       "      <td>93.500000</td>\n",
       "      <td>2803.500000</td>\n",
       "      <td>15.500000</td>\n",
       "      <td>48.000000</td>\n",
       "    </tr>\n",
       "    <tr>\n",
       "      <th>75%</th>\n",
       "      <td>29.000000</td>\n",
       "      <td>8.000000</td>\n",
       "      <td>275.750000</td>\n",
       "      <td>126.000000</td>\n",
       "      <td>3614.750000</td>\n",
       "      <td>17.025000</td>\n",
       "      <td>51.000000</td>\n",
       "    </tr>\n",
       "    <tr>\n",
       "      <th>max</th>\n",
       "      <td>46.600000</td>\n",
       "      <td>8.000000</td>\n",
       "      <td>455.000000</td>\n",
       "      <td>230.000000</td>\n",
       "      <td>5140.000000</td>\n",
       "      <td>24.800000</td>\n",
       "      <td>54.000000</td>\n",
       "    </tr>\n",
       "  </tbody>\n",
       "</table>\n",
       "</div>"
      ],
      "text/plain": [
       "              mpg   cylinders  displacement  horsepower       weight  \\\n",
       "count  392.000000  392.000000    392.000000  392.000000   392.000000   \n",
       "mean    23.445918    5.471939    194.411990  104.469388  2977.584184   \n",
       "std      7.805007    1.705783    104.644004   38.491160   849.402560   \n",
       "min      9.000000    3.000000     68.000000   46.000000  1613.000000   \n",
       "25%     17.000000    4.000000    105.000000   75.000000  2225.250000   \n",
       "50%     22.750000    4.000000    151.000000   93.500000  2803.500000   \n",
       "75%     29.000000    8.000000    275.750000  126.000000  3614.750000   \n",
       "max     46.600000    8.000000    455.000000  230.000000  5140.000000   \n",
       "\n",
       "       acceleration         age  \n",
       "count    392.000000  392.000000  \n",
       "mean      15.541327   48.020408  \n",
       "std        2.758864    3.683737  \n",
       "min        8.000000   42.000000  \n",
       "25%       13.775000   45.000000  \n",
       "50%       15.500000   48.000000  \n",
       "75%       17.025000   51.000000  \n",
       "max       24.800000   54.000000  "
      ]
     },
     "execution_count": 16,
     "metadata": {},
     "output_type": "execute_result"
    }
   ],
   "source": [
    "#Analisis estadistico de datos\n",
    "automobile_df.describe()"
   ]
  },
  {
   "cell_type": "code",
   "execution_count": 17,
   "metadata": {
    "colab": {
     "base_uri": "https://localhost:8080/",
     "height": 714
    },
    "executionInfo": {
     "elapsed": 1025,
     "status": "ok",
     "timestamp": 1735518814476,
     "user": {
      "displayName": "jose araya",
      "userId": "00838808485115670861"
     },
     "user_tz": 180
    },
    "id": "pWOY4iXOquy0",
    "outputId": "b4334233-f228-4fbb-f7ee-879c9bde592e"
   },
   "outputs": [
    {
     "data": {
      "text/plain": [
       "Text(0, 0.5, 'Millas por galon')"
      ]
     },
     "execution_count": 17,
     "metadata": {},
     "output_type": "execute_result"
    },
    {
     "data": {
      "image/png": "[encoded data removed]",
      "text/plain": [
       "<Figure size 1200x800 with 1 Axes>"
      ]
     },
     "metadata": {},
     "output_type": "display_data"
    }
   ],
   "source": [
    "#Vemos algunos plots de las variables\n",
    "fig, ax = plt.subplots(figsize=(12, 8))\n",
    "\n",
    "plt.scatter(automobile_df['acceleration'], automobile_df['mpg'])\n",
    "\n",
    "plt.xlabel('Aceleracion')\n",
    "plt.ylabel('Millas por galon')"
   ]
  },
  {
   "cell_type": "code",
   "execution_count": 18,
   "metadata": {
    "colab": {
     "base_uri": "https://localhost:8080/",
     "height": 714
    },
    "executionInfo": {
     "elapsed": 933,
     "status": "ok",
     "timestamp": 1735518821856,
     "user": {
      "displayName": "jose araya",
      "userId": "00838808485115670861"
     },
     "user_tz": 180
    },
    "id": "KTGkFZZFquy0",
    "outputId": "63e47d25-ded9-416a-abb0-ace610ea2c4c"
   },
   "outputs": [
    {
     "data": {
      "text/plain": [
       "Text(0, 0.5, 'Millas por galon')"
      ]
     },
     "execution_count": 18,
     "metadata": {},
     "output_type": "execute_result"
    },
    {
     "data": {
      "image/png": "[encoded data removed]",
      "text/plain": [
       "<Figure size 1200x800 with 1 Axes>"
      ]
     },
     "metadata": {},
     "output_type": "display_data"
    }
   ],
   "source": [
    "fig, ax = plt.subplots(figsize=(12, 8))\n",
    "\n",
    "plt.scatter(automobile_df['weight'], automobile_df['mpg'])\n",
    "\n",
    "plt.xlabel('Peso')\n",
    "plt.ylabel('Millas por galon')"
   ]
  },
  {
   "cell_type": "code",
   "execution_count": 19,
   "metadata": {
    "colab": {
     "base_uri": "https://localhost:8080/",
     "height": 714
    },
    "executionInfo": {
     "elapsed": 408,
     "status": "ok",
     "timestamp": 1735518826415,
     "user": {
      "displayName": "jose araya",
      "userId": "00838808485115670861"
     },
     "user_tz": 180
    },
    "id": "Fuy0Erawquy1",
    "outputId": "62c449e1-8e6e-46bd-9d85-d5a88ceb9feb"
   },
   "outputs": [
    {
     "data": {
      "text/plain": [
       "Text(0, 0.5, 'Millas por galon')"
      ]
     },
     "execution_count": 19,
     "metadata": {},
     "output_type": "execute_result"
    },
    {
     "data": {
      "image/png": "[encoded data removed]",
      "text/plain": [
       "<Figure size 1200x800 with 1 Axes>"
      ]
     },
     "metadata": {},
     "output_type": "display_data"
    }
   ],
   "source": [
    "fig, ax = plt.subplots(figsize=(12, 8))\n",
    "\n",
    "plt.scatter(automobile_df['displacement'], automobile_df['mpg'])\n",
    "\n",
    "plt.xlabel('Desplazamiento')\n",
    "plt.ylabel('Millas por galon')"
   ]
  },
  {
   "cell_type": "code",
   "execution_count": 20,
   "metadata": {
    "colab": {
     "base_uri": "https://localhost:8080/",
     "height": 714
    },
    "executionInfo": {
     "elapsed": 639,
     "status": "ok",
     "timestamp": 1735518833721,
     "user": {
      "displayName": "jose araya",
      "userId": "00838808485115670861"
     },
     "user_tz": 180
    },
    "id": "rXEjcXeDquy1",
    "outputId": "67435a20-eba0-4a65-8fb0-42a44be4cd24"
   },
   "outputs": [
    {
     "data": {
      "text/plain": [
       "Text(0, 0.5, 'Millas por galon')"
      ]
     },
     "execution_count": 20,
     "metadata": {},
     "output_type": "execute_result"
    },
    {
     "data": {
      "image/png": "[encoded data removed]",
      "text/plain": [
       "<Figure size 1200x800 with 1 Axes>"
      ]
     },
     "metadata": {},
     "output_type": "display_data"
    }
   ],
   "source": [
    "fig, ax = plt.subplots(figsize=(12, 8))\n",
    "\n",
    "plt.scatter(automobile_df['horsepower'], automobile_df['mpg'])\n",
    "\n",
    "plt.xlabel('Caballos de fuerza')\n",
    "plt.ylabel('Millas por galon')"
   ]
  },
  {
   "cell_type": "code",
   "execution_count": 21,
   "metadata": {
    "colab": {
     "base_uri": "https://localhost:8080/",
     "height": 269
    },
    "executionInfo": {
     "elapsed": 900,
     "status": "ok",
     "timestamp": 1735518837759,
     "user": {
      "displayName": "jose araya",
      "userId": "00838808485115670861"
     },
     "user_tz": 180
    },
    "id": "VpnEwPNHquy1",
    "outputId": "e44af4c6-c6ed-4ab8-f37a-c9db8ab8e1e8"
   },
   "outputs": [
    {
     "data": {
      "text/html": [
       "<div>\n",
       "<style scoped>\n",
       "    .dataframe tbody tr th:only-of-type {\n",
       "        vertical-align: middle;\n",
       "    }\n",
       "\n",
       "    .dataframe tbody tr th {\n",
       "        vertical-align: top;\n",
       "    }\n",
       "\n",
       "    .dataframe thead th {\n",
       "        text-align: right;\n",
       "    }\n",
       "</style>\n",
       "<table border=\"1\" class=\"dataframe\">\n",
       "  <thead>\n",
       "    <tr style=\"text-align: right;\">\n",
       "      <th></th>\n",
       "      <th>mpg</th>\n",
       "      <th>cylinders</th>\n",
       "      <th>displacement</th>\n",
       "      <th>horsepower</th>\n",
       "      <th>weight</th>\n",
       "      <th>acceleration</th>\n",
       "      <th>age</th>\n",
       "    </tr>\n",
       "  </thead>\n",
       "  <tbody>\n",
       "    <tr>\n",
       "      <th>mpg</th>\n",
       "      <td>1.000000</td>\n",
       "      <td>-0.777618</td>\n",
       "      <td>-0.805127</td>\n",
       "      <td>-0.778427</td>\n",
       "      <td>-0.832244</td>\n",
       "      <td>0.423329</td>\n",
       "      <td>-0.580541</td>\n",
       "    </tr>\n",
       "    <tr>\n",
       "      <th>cylinders</th>\n",
       "      <td>-0.777618</td>\n",
       "      <td>1.000000</td>\n",
       "      <td>0.950823</td>\n",
       "      <td>0.842983</td>\n",
       "      <td>0.897527</td>\n",
       "      <td>-0.504683</td>\n",
       "      <td>0.345647</td>\n",
       "    </tr>\n",
       "    <tr>\n",
       "      <th>displacement</th>\n",
       "      <td>-0.805127</td>\n",
       "      <td>0.950823</td>\n",
       "      <td>1.000000</td>\n",
       "      <td>0.897257</td>\n",
       "      <td>0.932994</td>\n",
       "      <td>-0.543800</td>\n",
       "      <td>0.369855</td>\n",
       "    </tr>\n",
       "    <tr>\n",
       "      <th>horsepower</th>\n",
       "      <td>-0.778427</td>\n",
       "      <td>0.842983</td>\n",
       "      <td>0.897257</td>\n",
       "      <td>1.000000</td>\n",
       "      <td>0.864538</td>\n",
       "      <td>-0.689196</td>\n",
       "      <td>0.416361</td>\n",
       "    </tr>\n",
       "    <tr>\n",
       "      <th>weight</th>\n",
       "      <td>-0.832244</td>\n",
       "      <td>0.897527</td>\n",
       "      <td>0.932994</td>\n",
       "      <td>0.864538</td>\n",
       "      <td>1.000000</td>\n",
       "      <td>-0.416839</td>\n",
       "      <td>0.309120</td>\n",
       "    </tr>\n",
       "    <tr>\n",
       "      <th>acceleration</th>\n",
       "      <td>0.423329</td>\n",
       "      <td>-0.504683</td>\n",
       "      <td>-0.543800</td>\n",
       "      <td>-0.689196</td>\n",
       "      <td>-0.416839</td>\n",
       "      <td>1.000000</td>\n",
       "      <td>-0.290316</td>\n",
       "    </tr>\n",
       "    <tr>\n",
       "      <th>age</th>\n",
       "      <td>-0.580541</td>\n",
       "      <td>0.345647</td>\n",
       "      <td>0.369855</td>\n",
       "      <td>0.416361</td>\n",
       "      <td>0.309120</td>\n",
       "      <td>-0.290316</td>\n",
       "      <td>1.000000</td>\n",
       "    </tr>\n",
       "  </tbody>\n",
       "</table>\n",
       "</div>"
      ],
      "text/plain": [
       "                   mpg  cylinders  displacement  horsepower    weight  \\\n",
       "mpg           1.000000  -0.777618     -0.805127   -0.778427 -0.832244   \n",
       "cylinders    -0.777618   1.000000      0.950823    0.842983  0.897527   \n",
       "displacement -0.805127   0.950823      1.000000    0.897257  0.932994   \n",
       "horsepower   -0.778427   0.842983      0.897257    1.000000  0.864538   \n",
       "weight       -0.832244   0.897527      0.932994    0.864538  1.000000   \n",
       "acceleration  0.423329  -0.504683     -0.543800   -0.689196 -0.416839   \n",
       "age          -0.580541   0.345647      0.369855    0.416361  0.309120   \n",
       "\n",
       "              acceleration       age  \n",
       "mpg               0.423329 -0.580541  \n",
       "cylinders        -0.504683  0.345647  \n",
       "displacement     -0.543800  0.369855  \n",
       "horsepower       -0.689196  0.416361  \n",
       "weight           -0.416839  0.309120  \n",
       "acceleration      1.000000 -0.290316  \n",
       "age              -0.290316  1.000000  "
      ]
     },
     "execution_count": 21,
     "metadata": {},
     "output_type": "execute_result"
    }
   ],
   "source": [
    "#Análisis de Correlaciones\n",
    "automobile_corr = automobile_df.corr()\n",
    "automobile_corr"
   ]
  },
  {
   "cell_type": "code",
   "execution_count": 22,
   "metadata": {
    "colab": {
     "base_uri": "https://localhost:8080/",
     "height": 871
    },
    "executionInfo": {
     "elapsed": 2547,
     "status": "ok",
     "timestamp": 1735518845535,
     "user": {
      "displayName": "jose araya",
      "userId": "00838808485115670861"
     },
     "user_tz": 180
    },
    "id": "q5usvMmAquy1",
    "outputId": "d98dc26b-1f5f-4afd-db33-2c856283386b"
   },
   "outputs": [
    {
     "data": {
      "text/plain": [
       "Text(0.5, 1.0, 'Heatmap correlaciones')"
      ]
     },
     "execution_count": 22,
     "metadata": {},
     "output_type": "execute_result"
    },
    {
     "data": {
      "image/png": "[encoded data removed]",
      "text/plain": [
       "<Figure size 1200x1000 with 2 Axes>"
      ]
     },
     "metadata": {},
     "output_type": "display_data"
    }
   ],
   "source": [
    "#Matriz de correlacion\n",
    "fig, ax = plt.subplots(figsize=(12, 10))\n",
    "sns.heatmap(automobile_corr, annot=True).set_title(\"Heatmap correlaciones\")"
   ]
  },
  {
   "cell_type": "code",
   "execution_count": 23,
   "metadata": {
    "executionInfo": {
     "elapsed": 369,
     "status": "ok",
     "timestamp": 1735519262576,
     "user": {
      "displayName": "jose araya",
      "userId": "00838808485115670861"
     },
     "user_tz": 180
    },
    "id": "HjXb8PnCAU24"
   },
   "outputs": [],
   "source": [
    "#Definimos matriz de medidas de evaluación del modelo\n",
    "def get_metrics(Y_test,pred):\n",
    "    mae = round(mean_absolute_error(Y_test,pred),3)\n",
    "    mse = round(mean_squared_error(Y_test, pred), 3)\n",
    "    rmse = round(root_mean_squared_error(Y_test, pred), 3)\n",
    "    mape = round(mean_absolute_percentage_error(Y_test, pred), 3)\n",
    "    r2 = round(r2_score(Y_test,pred), 4)\n",
    "    ev = round(explained_variance_score(Y_test,pred), 4)\n",
    "    return {'mae':mae,'mse':mse,'rmse':rmse, 'mape':mape,'r2':r2,'ev':ev}"
   ]
  },
  {
   "cell_type": "code",
   "execution_count": 24,
   "metadata": {
    "executionInfo": {
     "elapsed": 498,
     "status": "ok",
     "timestamp": 1735519297827,
     "user": {
      "displayName": "jose araya",
      "userId": "00838808485115670861"
     },
     "user_tz": 180
    },
    "id": "18J_9ZBg_vlp"
   },
   "outputs": [],
   "source": [
    "#Regresion lineal con varias caracteristicas\n",
    "X = automobile_df[['displacement', 'horsepower', 'weight', 'acceleration']]\n",
    "Y = automobile_df['mpg']\n",
    "\n",
    "X_train, X_test, Y_train, Y_test = train_test_split(X, Y, test_size = 0.3, random_state = 13)"
   ]
  },
  {
   "cell_type": "code",
   "execution_count": 25,
   "metadata": {
    "executionInfo": {
     "elapsed": 339,
     "status": "ok",
     "timestamp": 1735519374360,
     "user": {
      "displayName": "jose araya",
      "userId": "00838808485115670861"
     },
     "user_tz": 180
    },
    "id": "h31c7LSk_1Lz"
   },
   "outputs": [],
   "source": [
    "### variables para guardar información relevante de los modelos\n",
    "models = {}\n",
    "coefs = {}\n",
    "cols = ['displacement', 'horsepower', 'weight', 'acceleration']\n",
    "\n",
    "#Linear regresion\n",
    "reg_model = LinearRegression()\n",
    "reg_model.fit(X_train,Y_train)\n",
    "pred = reg_model.predict(X_test)\n",
    "models['linear'] = get_metrics(Y_test,pred)\n",
    "coefs['linear'] = reg_model.coef_\n",
    "\n",
    "#Ridge regresion\n",
    "alpha = 0.5\n",
    "ridge_model = Ridge(alpha=alpha, random_state=13)\n",
    "ridge_model.fit(X_train,Y_train)\n",
    "pred = ridge_model.predict(X_test)\n",
    "models['ridge'] = get_metrics(Y_test,pred)\n",
    "coefs['ridge'] = ridge_model.coef_\n",
    "\n",
    "#RidgeCV\n",
    "alphas = [0.1, 0.5, 0.8]\n",
    "ridgeCV_model = RidgeCV(alphas=alphas)\n",
    "ridgeCV_model.fit(X_train,Y_train)\n",
    "pred = ridgeCV_model.predict(X_test)\n",
    "models['ridgeCV'] = get_metrics(Y_test,pred)\n",
    "coefs['ridgeCV'] = ridgeCV_model.coef_\n",
    "\n",
    "#Lasso validation\n",
    "alpha = 0.5\n",
    "lasso_model = Lasso(alpha=alpha, random_state=13)\n",
    "lasso_model.fit(X_train, Y_train)\n",
    "pred = lasso_model.predict(X_test)\n",
    "models['lasso'] = get_metrics(Y_test,pred)\n",
    "coefs['lasso'] = lasso_model.coef_\n",
    "\n",
    "#LassoCV\n",
    "alphas = [0.1, 0.5, 0.8]\n",
    "lassoCV_model = LassoCV(alphas=alphas, random_state=13)\n",
    "lassoCV_model.fit(X_train, Y_train)\n",
    "pred = lassoCV_model.predict(X_test)\n",
    "models['lassoCV'] = get_metrics(Y_test,pred)\n",
    "coefs['lassoCV'] = lassoCV_model.coef_\n",
    "\n",
    "#ElasticNet\n",
    "elastic_model = ElasticNet(random_state=13)\n",
    "elastic_model.fit(X_train, Y_train)\n",
    "pred = elastic_model.predict(X_test)\n",
    "models['elastic'] = get_metrics(Y_test,pred)\n",
    "coefs['elastic'] = elastic_model.coef_\n",
    "\n",
    "#ElasticNetCV\n",
    "elasticCV_model = ElasticNetCV(random_state=13)\n",
    "elasticCV_model.fit(X_train, Y_train)\n",
    "pred = elasticCV_model.predict(X_test)\n",
    "models['elasticCV'] = get_metrics(Y_test,pred)\n",
    "coefs['elasticCV'] = elasticCV_model.coef_\n",
    "\n",
    "#DecisionTreeRegressor\n",
    "tree_model = DecisionTreeRegressor(random_state=0)\n",
    "tree_model = tree_model.fit(X_train, Y_train)\n",
    "pred = tree_model.predict(X_test)\n",
    "models['decision_tree'] = get_metrics(Y_test,pred)\n",
    "\n",
    "#Verificación de resultados\n",
    "df_coef = pd.DataFrame.from_dict(coefs,orient='index',columns=cols).reset_index()\n",
    "df_metrics = pd.DataFrame.from_dict(models)"
   ]
  },
  {
   "cell_type": "code",
   "execution_count": 26,
   "metadata": {
    "colab": {
     "base_uri": "https://localhost:8080/",
     "height": 237
    },
    "executionInfo": {
     "elapsed": 566,
     "status": "ok",
     "timestamp": 1735519410748,
     "user": {
      "displayName": "jose araya",
      "userId": "00838808485115670861"
     },
     "user_tz": 180
    },
    "id": "_ys0gcvRBBpQ",
    "outputId": "8e4d03ac-a4b1-4eb3-e54c-3f0a45edad9f"
   },
   "outputs": [
    {
     "data": {
      "text/html": [
       "<div>\n",
       "<style scoped>\n",
       "    .dataframe tbody tr th:only-of-type {\n",
       "        vertical-align: middle;\n",
       "    }\n",
       "\n",
       "    .dataframe tbody tr th {\n",
       "        vertical-align: top;\n",
       "    }\n",
       "\n",
       "    .dataframe thead th {\n",
       "        text-align: right;\n",
       "    }\n",
       "</style>\n",
       "<table border=\"1\" class=\"dataframe\">\n",
       "  <thead>\n",
       "    <tr style=\"text-align: right;\">\n",
       "      <th></th>\n",
       "      <th>linear</th>\n",
       "      <th>ridge</th>\n",
       "      <th>ridgeCV</th>\n",
       "      <th>lasso</th>\n",
       "      <th>lassoCV</th>\n",
       "      <th>elastic</th>\n",
       "      <th>elasticCV</th>\n",
       "      <th>decision_tree</th>\n",
       "    </tr>\n",
       "  </thead>\n",
       "  <tbody>\n",
       "    <tr>\n",
       "      <th>mae</th>\n",
       "      <td>3.3320</td>\n",
       "      <td>3.3320</td>\n",
       "      <td>3.3320</td>\n",
       "      <td>3.2930</td>\n",
       "      <td>3.2910</td>\n",
       "      <td>3.2930</td>\n",
       "      <td>3.2620</td>\n",
       "      <td>3.2060</td>\n",
       "    </tr>\n",
       "    <tr>\n",
       "      <th>mse</th>\n",
       "      <td>18.6130</td>\n",
       "      <td>18.6130</td>\n",
       "      <td>18.6130</td>\n",
       "      <td>18.1580</td>\n",
       "      <td>18.1370</td>\n",
       "      <td>18.1560</td>\n",
       "      <td>17.8670</td>\n",
       "      <td>20.8400</td>\n",
       "    </tr>\n",
       "    <tr>\n",
       "      <th>rmse</th>\n",
       "      <td>4.3140</td>\n",
       "      <td>4.3140</td>\n",
       "      <td>4.3140</td>\n",
       "      <td>4.2610</td>\n",
       "      <td>4.2590</td>\n",
       "      <td>4.2610</td>\n",
       "      <td>4.2270</td>\n",
       "      <td>4.5650</td>\n",
       "    </tr>\n",
       "    <tr>\n",
       "      <th>mape</th>\n",
       "      <td>0.1500</td>\n",
       "      <td>0.1500</td>\n",
       "      <td>0.1500</td>\n",
       "      <td>0.1480</td>\n",
       "      <td>0.1480</td>\n",
       "      <td>0.1480</td>\n",
       "      <td>0.1460</td>\n",
       "      <td>0.1410</td>\n",
       "    </tr>\n",
       "    <tr>\n",
       "      <th>r2</th>\n",
       "      <td>0.6845</td>\n",
       "      <td>0.6845</td>\n",
       "      <td>0.6845</td>\n",
       "      <td>0.6922</td>\n",
       "      <td>0.6925</td>\n",
       "      <td>0.6922</td>\n",
       "      <td>0.6971</td>\n",
       "      <td>0.6467</td>\n",
       "    </tr>\n",
       "    <tr>\n",
       "      <th>ev</th>\n",
       "      <td>0.6875</td>\n",
       "      <td>0.6875</td>\n",
       "      <td>0.6875</td>\n",
       "      <td>0.6952</td>\n",
       "      <td>0.6955</td>\n",
       "      <td>0.6952</td>\n",
       "      <td>0.7003</td>\n",
       "      <td>0.6502</td>\n",
       "    </tr>\n",
       "  </tbody>\n",
       "</table>\n",
       "</div>"
      ],
      "text/plain": [
       "       linear    ridge  ridgeCV    lasso  lassoCV  elastic  elasticCV  \\\n",
       "mae    3.3320   3.3320   3.3320   3.2930   3.2910   3.2930     3.2620   \n",
       "mse   18.6130  18.6130  18.6130  18.1580  18.1370  18.1560    17.8670   \n",
       "rmse   4.3140   4.3140   4.3140   4.2610   4.2590   4.2610     4.2270   \n",
       "mape   0.1500   0.1500   0.1500   0.1480   0.1480   0.1480     0.1460   \n",
       "r2     0.6845   0.6845   0.6845   0.6922   0.6925   0.6922     0.6971   \n",
       "ev     0.6875   0.6875   0.6875   0.6952   0.6955   0.6952     0.7003   \n",
       "\n",
       "      decision_tree  \n",
       "mae          3.2060  \n",
       "mse         20.8400  \n",
       "rmse         4.5650  \n",
       "mape         0.1410  \n",
       "r2           0.6467  \n",
       "ev           0.6502  "
      ]
     },
     "execution_count": 26,
     "metadata": {},
     "output_type": "execute_result"
    }
   ],
   "source": [
    "df_metrics"
   ]
  },
  {
   "cell_type": "code",
   "execution_count": 27,
   "metadata": {
    "colab": {
     "base_uri": "https://localhost:8080/",
     "height": 269
    },
    "executionInfo": {
     "elapsed": 417,
     "status": "ok",
     "timestamp": 1735519414092,
     "user": {
      "displayName": "jose araya",
      "userId": "00838808485115670861"
     },
     "user_tz": 180
    },
    "id": "ddoCfbjoBIFR",
    "outputId": "ad04e5d3-4ba2-4b5f-cca6-aa62ca028645"
   },
   "outputs": [
    {
     "data": {
      "text/html": [
       "<div>\n",
       "<style scoped>\n",
       "    .dataframe tbody tr th:only-of-type {\n",
       "        vertical-align: middle;\n",
       "    }\n",
       "\n",
       "    .dataframe tbody tr th {\n",
       "        vertical-align: top;\n",
       "    }\n",
       "\n",
       "    .dataframe thead th {\n",
       "        text-align: right;\n",
       "    }\n",
       "</style>\n",
       "<table border=\"1\" class=\"dataframe\">\n",
       "  <thead>\n",
       "    <tr style=\"text-align: right;\">\n",
       "      <th></th>\n",
       "      <th>index</th>\n",
       "      <th>displacement</th>\n",
       "      <th>horsepower</th>\n",
       "      <th>weight</th>\n",
       "      <th>acceleration</th>\n",
       "    </tr>\n",
       "  </thead>\n",
       "  <tbody>\n",
       "    <tr>\n",
       "      <th>0</th>\n",
       "      <td>linear</td>\n",
       "      <td>-0.000785</td>\n",
       "      <td>-0.042972</td>\n",
       "      <td>-0.005685</td>\n",
       "      <td>0.148258</td>\n",
       "    </tr>\n",
       "    <tr>\n",
       "      <th>1</th>\n",
       "      <td>ridge</td>\n",
       "      <td>-0.000786</td>\n",
       "      <td>-0.042979</td>\n",
       "      <td>-0.005684</td>\n",
       "      <td>0.148170</td>\n",
       "    </tr>\n",
       "    <tr>\n",
       "      <th>2</th>\n",
       "      <td>ridgeCV</td>\n",
       "      <td>-0.000787</td>\n",
       "      <td>-0.042984</td>\n",
       "      <td>-0.005684</td>\n",
       "      <td>0.148117</td>\n",
       "    </tr>\n",
       "    <tr>\n",
       "      <th>3</th>\n",
       "      <td>lasso</td>\n",
       "      <td>-0.002479</td>\n",
       "      <td>-0.054486</td>\n",
       "      <td>-0.005227</td>\n",
       "      <td>0.000000</td>\n",
       "    </tr>\n",
       "    <tr>\n",
       "      <th>4</th>\n",
       "      <td>lassoCV</td>\n",
       "      <td>-0.002492</td>\n",
       "      <td>-0.053632</td>\n",
       "      <td>-0.005259</td>\n",
       "      <td>0.000000</td>\n",
       "    </tr>\n",
       "    <tr>\n",
       "      <th>5</th>\n",
       "      <td>elastic</td>\n",
       "      <td>-0.002505</td>\n",
       "      <td>-0.054383</td>\n",
       "      <td>-0.005229</td>\n",
       "      <td>0.000000</td>\n",
       "    </tr>\n",
       "    <tr>\n",
       "      <th>6</th>\n",
       "      <td>elasticCV</td>\n",
       "      <td>-0.002859</td>\n",
       "      <td>-0.039293</td>\n",
       "      <td>-0.005779</td>\n",
       "      <td>0.000000</td>\n",
       "    </tr>\n",
       "  </tbody>\n",
       "</table>\n",
       "</div>"
      ],
      "text/plain": [
       "       index  displacement  horsepower    weight  acceleration\n",
       "0     linear     -0.000785   -0.042972 -0.005685      0.148258\n",
       "1      ridge     -0.000786   -0.042979 -0.005684      0.148170\n",
       "2    ridgeCV     -0.000787   -0.042984 -0.005684      0.148117\n",
       "3      lasso     -0.002479   -0.054486 -0.005227      0.000000\n",
       "4    lassoCV     -0.002492   -0.053632 -0.005259      0.000000\n",
       "5    elastic     -0.002505   -0.054383 -0.005229      0.000000\n",
       "6  elasticCV     -0.002859   -0.039293 -0.005779      0.000000"
      ]
     },
     "execution_count": 27,
     "metadata": {},
     "output_type": "execute_result"
    }
   ],
   "source": [
    "df_coef"
   ]
  },
  {
   "cell_type": "code",
   "execution_count": 28,
   "metadata": {
    "colab": {
     "base_uri": "https://localhost:8080/"
    },
    "id": "H1hR3JExCQQf",
    "outputId": "ae4ae752-01be-445d-a85a-9e71fec79fd9"
   },
   "outputs": [
    {
     "name": "stdout",
     "output_type": "stream",
     "text": [
      "Fitting 5 folds for each of 31 candidates, totalling 155 fits\n",
      "Modelo: ridge_model Mejor parametro:{'alpha': 100000}\n",
      "Fitting 5 folds for each of 31 candidates, totalling 155 fits\n",
      "Modelo: lasso_model Mejor parametro:{'alpha': 5.0}\n",
      "Fitting 5 folds for each of 31 candidates, totalling 155 fits\n",
      "Modelo: elastic_model Mejor parametro:{'alpha': 9.0}\n",
      "Fitting 5 folds for each of 50400 candidates, totalling 252000 fits\n"
     ]
    },
    {
     "name": "stderr",
     "output_type": "stream",
     "text": [
      "c:\\Users\\arayajo01\\AppData\\Local\\Programs\\Python\\Python312\\Lib\\site-packages\\sklearn\\model_selection\\_validation.py:540: FitFailedWarning: \n",
      "147000 fits failed out of a total of 252000.\n",
      "The score on these train-test partitions for these parameters will be set to nan.\n",
      "If these failures are not expected, you can try to debug them by setting error_score='raise'.\n",
      "\n",
      "Below are more details about the failures:\n",
      "--------------------------------------------------------------------------------\n",
      "63000 fits failed with the following error:\n",
      "Traceback (most recent call last):\n",
      "  File \"c:\\Users\\arayajo01\\AppData\\Local\\Programs\\Python\\Python312\\Lib\\site-packages\\sklearn\\model_selection\\_validation.py\", line 888, in _fit_and_score\n",
      "    estimator.fit(X_train, y_train, **fit_params)\n",
      "  File \"c:\\Users\\arayajo01\\AppData\\Local\\Programs\\Python\\Python312\\Lib\\site-packages\\sklearn\\base.py\", line 1466, in wrapper\n",
      "    estimator._validate_params()\n",
      "  File \"c:\\Users\\arayajo01\\AppData\\Local\\Programs\\Python\\Python312\\Lib\\site-packages\\sklearn\\base.py\", line 666, in _validate_params\n",
      "    validate_parameter_constraints(\n",
      "  File \"c:\\Users\\arayajo01\\AppData\\Local\\Programs\\Python\\Python312\\Lib\\site-packages\\sklearn\\utils\\_param_validation.py\", line 95, in validate_parameter_constraints\n",
      "    raise InvalidParameterError(\n",
      "sklearn.utils._param_validation.InvalidParameterError: The 'max_features' parameter of DecisionTreeRegressor must be an int in the range [1, inf), a float in the range (0.0, 1.0], a str among {'sqrt', 'log2'} or None. Got 'auto' instead.\n",
      "\n",
      "--------------------------------------------------------------------------------\n",
      "21000 fits failed with the following error:\n",
      "Traceback (most recent call last):\n",
      "  File \"c:\\Users\\arayajo01\\AppData\\Local\\Programs\\Python\\Python312\\Lib\\site-packages\\sklearn\\model_selection\\_validation.py\", line 888, in _fit_and_score\n",
      "    estimator.fit(X_train, y_train, **fit_params)\n",
      "  File \"c:\\Users\\arayajo01\\AppData\\Local\\Programs\\Python\\Python312\\Lib\\site-packages\\sklearn\\base.py\", line 1466, in wrapper\n",
      "    estimator._validate_params()\n",
      "  File \"c:\\Users\\arayajo01\\AppData\\Local\\Programs\\Python\\Python312\\Lib\\site-packages\\sklearn\\base.py\", line 666, in _validate_params\n",
      "    validate_parameter_constraints(\n",
      "  File \"c:\\Users\\arayajo01\\AppData\\Local\\Programs\\Python\\Python312\\Lib\\site-packages\\sklearn\\utils\\_param_validation.py\", line 95, in validate_parameter_constraints\n",
      "    raise InvalidParameterError(\n",
      "sklearn.utils._param_validation.InvalidParameterError: The 'min_weight_fraction_leaf' parameter of DecisionTreeRegressor must be a float in the range [0.0, 0.5]. Got 0.6 instead.\n",
      "\n",
      "--------------------------------------------------------------------------------\n",
      "21000 fits failed with the following error:\n",
      "Traceback (most recent call last):\n",
      "  File \"c:\\Users\\arayajo01\\AppData\\Local\\Programs\\Python\\Python312\\Lib\\site-packages\\sklearn\\model_selection\\_validation.py\", line 888, in _fit_and_score\n",
      "    estimator.fit(X_train, y_train, **fit_params)\n",
      "  File \"c:\\Users\\arayajo01\\AppData\\Local\\Programs\\Python\\Python312\\Lib\\site-packages\\sklearn\\base.py\", line 1466, in wrapper\n",
      "    estimator._validate_params()\n",
      "  File \"c:\\Users\\arayajo01\\AppData\\Local\\Programs\\Python\\Python312\\Lib\\site-packages\\sklearn\\base.py\", line 666, in _validate_params\n",
      "    validate_parameter_constraints(\n",
      "  File \"c:\\Users\\arayajo01\\AppData\\Local\\Programs\\Python\\Python312\\Lib\\site-packages\\sklearn\\utils\\_param_validation.py\", line 95, in validate_parameter_constraints\n",
      "    raise InvalidParameterError(\n",
      "sklearn.utils._param_validation.InvalidParameterError: The 'min_weight_fraction_leaf' parameter of DecisionTreeRegressor must be a float in the range [0.0, 0.5]. Got 0.7 instead.\n",
      "\n",
      "--------------------------------------------------------------------------------\n",
      "21000 fits failed with the following error:\n",
      "Traceback (most recent call last):\n",
      "  File \"c:\\Users\\arayajo01\\AppData\\Local\\Programs\\Python\\Python312\\Lib\\site-packages\\sklearn\\model_selection\\_validation.py\", line 888, in _fit_and_score\n",
      "    estimator.fit(X_train, y_train, **fit_params)\n",
      "  File \"c:\\Users\\arayajo01\\AppData\\Local\\Programs\\Python\\Python312\\Lib\\site-packages\\sklearn\\base.py\", line 1466, in wrapper\n",
      "    estimator._validate_params()\n",
      "  File \"c:\\Users\\arayajo01\\AppData\\Local\\Programs\\Python\\Python312\\Lib\\site-packages\\sklearn\\base.py\", line 666, in _validate_params\n",
      "    validate_parameter_constraints(\n",
      "  File \"c:\\Users\\arayajo01\\AppData\\Local\\Programs\\Python\\Python312\\Lib\\site-packages\\sklearn\\utils\\_param_validation.py\", line 95, in validate_parameter_constraints\n",
      "    raise InvalidParameterError(\n",
      "sklearn.utils._param_validation.InvalidParameterError: The 'min_weight_fraction_leaf' parameter of DecisionTreeRegressor must be a float in the range [0.0, 0.5]. Got 0.8 instead.\n",
      "\n",
      "--------------------------------------------------------------------------------\n",
      "21000 fits failed with the following error:\n",
      "Traceback (most recent call last):\n",
      "  File \"c:\\Users\\arayajo01\\AppData\\Local\\Programs\\Python\\Python312\\Lib\\site-packages\\sklearn\\model_selection\\_validation.py\", line 888, in _fit_and_score\n",
      "    estimator.fit(X_train, y_train, **fit_params)\n",
      "  File \"c:\\Users\\arayajo01\\AppData\\Local\\Programs\\Python\\Python312\\Lib\\site-packages\\sklearn\\base.py\", line 1466, in wrapper\n",
      "    estimator._validate_params()\n",
      "  File \"c:\\Users\\arayajo01\\AppData\\Local\\Programs\\Python\\Python312\\Lib\\site-packages\\sklearn\\base.py\", line 666, in _validate_params\n",
      "    validate_parameter_constraints(\n",
      "  File \"c:\\Users\\arayajo01\\AppData\\Local\\Programs\\Python\\Python312\\Lib\\site-packages\\sklearn\\utils\\_param_validation.py\", line 95, in validate_parameter_constraints\n",
      "    raise InvalidParameterError(\n",
      "sklearn.utils._param_validation.InvalidParameterError: The 'min_weight_fraction_leaf' parameter of DecisionTreeRegressor must be a float in the range [0.0, 0.5]. Got 0.9 instead.\n",
      "\n",
      "  warnings.warn(some_fits_failed_message, FitFailedWarning)\n",
      "c:\\Users\\arayajo01\\AppData\\Local\\Programs\\Python\\Python312\\Lib\\site-packages\\numpy\\ma\\core.py:2846: RuntimeWarning: invalid value encountered in cast\n",
      "  _data = np.array(data, dtype=dtype, copy=copy,\n"
     ]
    },
    {
     "name": "stdout",
     "output_type": "stream",
     "text": [
      "Modelo: decision tree Mejor parametro:{'max_depth': 11, 'max_features': 'log2', 'max_leaf_nodes': 20, 'min_samples_leaf': 5, 'min_weight_fraction_leaf': 0.1, 'splitter': 'best'}\n"
     ]
    },
    {
     "name": "stderr",
     "output_type": "stream",
     "text": [
      "c:\\Users\\arayajo01\\AppData\\Local\\Programs\\Python\\Python312\\Lib\\site-packages\\sklearn\\model_selection\\_search.py:1103: UserWarning: One or more of the test scores are non-finite: [nan nan nan ... nan nan nan]\n",
      "  warnings.warn(\n",
      "c:\\Users\\arayajo01\\AppData\\Local\\Programs\\Python\\Python312\\Lib\\site-packages\\sklearn\\model_selection\\_search.py:1103: UserWarning: One or more of the train scores are non-finite: [nan nan nan ... nan nan nan]\n",
      "  warnings.warn(\n"
     ]
    }
   ],
   "source": [
    "#Realizamos hipertuning de parametros con gridcv para intentar mejorar el modelo\n",
    "\n",
    "#Utilizaremos grid search para realizar hipertuning de parametros\n",
    "param_regression = {\n",
    "    'alpha': [0.0001, 0.001, 0.01, 0.05, 0.1, 0.2, 0.3, 0.4, 0.5, 0.6, 0.7, 0.8, 0.9, 1.0, 2.0, 3.0, 4.0, 5.0, 6.0, 7.0, 8.0, 9.0,\n",
    "                    10.0, 20, 50, 100, 500, 1000, 10000, 100000, 1000000 ]\n",
    "        }\n",
    "\n",
    "param_decisiontree={\"splitter\":[\"best\",\"random\"],\n",
    "            \"max_depth\" : [1,3,5,7,9,11,12],\n",
    "           \"min_samples_leaf\":[1,2,3,4,5,6,7,8,9,10],\n",
    "           \"min_weight_fraction_leaf\":[0.1,0.2,0.3,0.4,0.5,0.6,0.7,0.8,0.9],\n",
    "           \"max_features\":[\"auto\",\"log2\",\"sqrt\",None],\n",
    "           \"max_leaf_nodes\":[None,10,20,30,40,50,60,70,80,90] }\n",
    "\n",
    "ridge_model = Ridge()\n",
    "ridgeCV_model = RidgeCV()\n",
    "lasso_model = Lasso()\n",
    "lassoCV_model = LassoCV()\n",
    "elastic_model = ElasticNet()\n",
    "elasticCV_model = ElasticNetCV()\n",
    "tree_model = DecisionTreeRegressor()\n",
    "\n",
    "modelos = [ridge_model,lasso_model,elastic_model]\n",
    "modelos_nombres = ['ridge_model','lasso_model','elastic_model']\n",
    "\n",
    "for modelo in modelos:\n",
    "    grid_cv_model = GridSearchCV(estimator=modelo,\n",
    "                        param_grid=param_regression,\n",
    "                        scoring='neg_mean_absolute_error',\n",
    "                        cv=5,\n",
    "                        return_train_score=True,\n",
    "                        verbose=1)\n",
    "\n",
    "    # fiting GridSearchCV() with X_train and y_train\n",
    "    grid_cv_model.fit(X_train,Y_train)\n",
    "\n",
    "    print(f\"Modelo: {modelos_nombres[modelos.index(modelo)]} Mejor parametro:{grid_cv_model.best_params_}\")\n",
    "\n",
    "grid_cv_model = GridSearchCV(estimator=tree_model,\n",
    "                        param_grid=param_decisiontree,\n",
    "                        scoring='neg_mean_absolute_error',\n",
    "                        cv=5,\n",
    "                        return_train_score=True,\n",
    "                        verbose=1)\n",
    "\n",
    "# fiting GridSearchCV() with X_train and y_train\n",
    "grid_cv_model.fit(X_train,Y_train)\n",
    "\n",
    "print(f\"Modelo: decision tree Mejor parametro:{grid_cv_model.best_params_}\")"
   ]
  },
  {
   "cell_type": "code",
   "execution_count": null,
   "metadata": {
    "id": "jahID6akC299"
   },
   "outputs": [],
   "source": [
    "#Corremos el modelo nuevamente con los hiperparametros tuneados\n",
    "#Regresion lineal con varias características\n",
    "X = automobile_df[['displacement', 'horsepower', 'weight', 'acceleration']]\n",
    "Y = automobile_df['mpg']\n",
    "\n",
    "X_train, X_test, Y_train, Y_test = train_test_split(X, Y, test_size = 0.3, random_state = 13)\n",
    "\n",
    "### variables para guardar información relevante de los modelos\n",
    "models = {}\n",
    "coefs = {}\n",
    "cols = ['displacement', 'horsepower', 'weight', 'acceleration']\n",
    "\n",
    "#Linear regresion\n",
    "reg_model = LinearRegression()\n",
    "reg_model.fit(X_train,Y_train)\n",
    "pred = reg_model.predict(X_test)\n",
    "models['linear'] = get_metrics(Y_test,pred)\n",
    "coefs['linear'] = reg_model.coef_\n",
    "\n",
    "#Ridge regresion\n",
    "alpha = 100000\n",
    "ridge_model = Ridge(alpha=alpha, random_state=13)\n",
    "ridge_model.fit(X_train,Y_train)\n",
    "pred = ridge_model.predict(X_test)\n",
    "models['ridge'] = get_metrics(Y_test,pred)\n",
    "coefs['ridge'] = ridge_model.coef_\n",
    "\n",
    "#RidgeCV\n",
    "alphas = [0.1, 0.5, 100000]\n",
    "ridgeCV_model = RidgeCV(alphas=alphas)\n",
    "ridgeCV_model.fit(X_train,Y_train)\n",
    "pred = ridgeCV_model.predict(X_test)\n",
    "models['ridgeCV'] = get_metrics(Y_test,pred)\n",
    "coefs['ridgeCV'] = ridgeCV_model.coef_\n",
    "\n",
    "#Lasso validation\n",
    "alpha = 5\n",
    "lasso_model = Lasso(alpha=alpha, random_state=13)\n",
    "lasso_model.fit(X_train, Y_train)\n",
    "pred = lasso_model.predict(X_test)\n",
    "models['lasso'] = get_metrics(Y_test,pred)\n",
    "coefs['lasso'] = lasso_model.coef_\n",
    "\n",
    "#LassoCV\n",
    "alphas = [0.1, 0.5, 5]\n",
    "lassoCV_model = LassoCV(alphas=alphas, random_state=13)\n",
    "lassoCV_model.fit(X_train, Y_train)\n",
    "pred = lassoCV_model.predict(X_test)\n",
    "models['lassoCV'] = get_metrics(Y_test,pred)\n",
    "coefs['lassoCV'] = lassoCV_model.coef_\n",
    "\n",
    "#ElasticNet\n",
    "alpha = 9\n",
    "elastic_model = ElasticNet(alpha=alpha, random_state=13)\n",
    "elastic_model.fit(X_train, Y_train)\n",
    "pred = elastic_model.predict(X_test)\n",
    "models['elastic'] = get_metrics(Y_test,pred)\n",
    "coefs['elastic'] = elastic_model.coef_\n",
    "\n",
    "#ElasticNetCV\n",
    "alphas = [0.1, 0.5, 9]\n",
    "elasticCV_model = ElasticNetCV(alphas=alphas, random_state=13)\n",
    "elasticCV_model.fit(X_train, Y_train)\n",
    "pred = elasticCV_model.predict(X_test)\n",
    "models['elasticCV'] = get_metrics(Y_test,pred)\n",
    "coefs['elasticCV'] = elasticCV_model.coef_\n",
    "\n",
    "#DecisionTreeRegressor\n",
    "tree_model = DecisionTreeRegressor(max_depth= 11, max_features= 'log2', max_leaf_nodes= 20, min_samples_leaf = 5, min_weight_fraction_leaf= 0.1, splitter = 'best', random_state=13)\n",
    "tree_model = tree_model.fit(X_train, Y_train)\n",
    "pred = tree_model.predict(X_test)\n",
    "models['decision_tree'] = get_metrics(Y_test,pred)\n",
    "\n",
    "#Verificación de resultados\n",
    "df_coef = pd.DataFrame.from_dict(coefs,orient='index',columns=cols).reset_index()\n",
    "df_metrics = pd.DataFrame.from_dict(models)\n"
   ]
  },
  {
   "cell_type": "code",
   "execution_count": 31,
   "metadata": {},
   "outputs": [
    {
     "data": {
      "text/html": [
       "<div>\n",
       "<style scoped>\n",
       "    .dataframe tbody tr th:only-of-type {\n",
       "        vertical-align: middle;\n",
       "    }\n",
       "\n",
       "    .dataframe tbody tr th {\n",
       "        vertical-align: top;\n",
       "    }\n",
       "\n",
       "    .dataframe thead th {\n",
       "        text-align: right;\n",
       "    }\n",
       "</style>\n",
       "<table border=\"1\" class=\"dataframe\">\n",
       "  <thead>\n",
       "    <tr style=\"text-align: right;\">\n",
       "      <th></th>\n",
       "      <th>linear</th>\n",
       "      <th>ridge</th>\n",
       "      <th>ridgeCV</th>\n",
       "      <th>lasso</th>\n",
       "      <th>lassoCV</th>\n",
       "      <th>elastic</th>\n",
       "      <th>elasticCV</th>\n",
       "      <th>decision_tree</th>\n",
       "    </tr>\n",
       "  </thead>\n",
       "  <tbody>\n",
       "    <tr>\n",
       "      <th>mae</th>\n",
       "      <td>3.3320</td>\n",
       "      <td>3.2470</td>\n",
       "      <td>3.2470</td>\n",
       "      <td>3.2670</td>\n",
       "      <td>3.2670</td>\n",
       "      <td>3.2680</td>\n",
       "      <td>3.2680</td>\n",
       "      <td>3.0080</td>\n",
       "    </tr>\n",
       "    <tr>\n",
       "      <th>mse</th>\n",
       "      <td>18.6130</td>\n",
       "      <td>17.7050</td>\n",
       "      <td>17.7050</td>\n",
       "      <td>17.9000</td>\n",
       "      <td>17.9000</td>\n",
       "      <td>17.9090</td>\n",
       "      <td>17.9090</td>\n",
       "      <td>16.3680</td>\n",
       "    </tr>\n",
       "    <tr>\n",
       "      <th>rmse</th>\n",
       "      <td>4.3140</td>\n",
       "      <td>4.2080</td>\n",
       "      <td>4.2080</td>\n",
       "      <td>4.2310</td>\n",
       "      <td>4.2310</td>\n",
       "      <td>4.2320</td>\n",
       "      <td>4.2320</td>\n",
       "      <td>4.0460</td>\n",
       "    </tr>\n",
       "    <tr>\n",
       "      <th>mape</th>\n",
       "      <td>0.1500</td>\n",
       "      <td>0.1450</td>\n",
       "      <td>0.1450</td>\n",
       "      <td>0.1460</td>\n",
       "      <td>0.1460</td>\n",
       "      <td>0.1460</td>\n",
       "      <td>0.1460</td>\n",
       "      <td>0.1340</td>\n",
       "    </tr>\n",
       "    <tr>\n",
       "      <th>r2</th>\n",
       "      <td>0.6845</td>\n",
       "      <td>0.6999</td>\n",
       "      <td>0.6999</td>\n",
       "      <td>0.6966</td>\n",
       "      <td>0.6966</td>\n",
       "      <td>0.6964</td>\n",
       "      <td>0.6964</td>\n",
       "      <td>0.7225</td>\n",
       "    </tr>\n",
       "    <tr>\n",
       "      <th>ev</th>\n",
       "      <td>0.6875</td>\n",
       "      <td>0.7029</td>\n",
       "      <td>0.7029</td>\n",
       "      <td>0.6997</td>\n",
       "      <td>0.6997</td>\n",
       "      <td>0.6996</td>\n",
       "      <td>0.6996</td>\n",
       "      <td>0.7242</td>\n",
       "    </tr>\n",
       "  </tbody>\n",
       "</table>\n",
       "</div>"
      ],
      "text/plain": [
       "       linear    ridge  ridgeCV    lasso  lassoCV  elastic  elasticCV  \\\n",
       "mae    3.3320   3.2470   3.2470   3.2670   3.2670   3.2680     3.2680   \n",
       "mse   18.6130  17.7050  17.7050  17.9000  17.9000  17.9090    17.9090   \n",
       "rmse   4.3140   4.2080   4.2080   4.2310   4.2310   4.2320     4.2320   \n",
       "mape   0.1500   0.1450   0.1450   0.1460   0.1460   0.1460     0.1460   \n",
       "r2     0.6845   0.6999   0.6999   0.6966   0.6966   0.6964     0.6964   \n",
       "ev     0.6875   0.7029   0.7029   0.6997   0.6997   0.6996     0.6996   \n",
       "\n",
       "      decision_tree  \n",
       "mae          3.0080  \n",
       "mse         16.3680  \n",
       "rmse         4.0460  \n",
       "mape         0.1340  \n",
       "r2           0.7225  \n",
       "ev           0.7242  "
      ]
     },
     "execution_count": 31,
     "metadata": {},
     "output_type": "execute_result"
    }
   ],
   "source": [
    "df_metrics"
   ]
  },
  {
   "cell_type": "code",
   "execution_count": 32,
   "metadata": {},
   "outputs": [
    {
     "data": {
      "text/html": [
       "<div>\n",
       "<style scoped>\n",
       "    .dataframe tbody tr th:only-of-type {\n",
       "        vertical-align: middle;\n",
       "    }\n",
       "\n",
       "    .dataframe tbody tr th {\n",
       "        vertical-align: top;\n",
       "    }\n",
       "\n",
       "    .dataframe thead th {\n",
       "        text-align: right;\n",
       "    }\n",
       "</style>\n",
       "<table border=\"1\" class=\"dataframe\">\n",
       "  <thead>\n",
       "    <tr style=\"text-align: right;\">\n",
       "      <th></th>\n",
       "      <th>index</th>\n",
       "      <th>displacement</th>\n",
       "      <th>horsepower</th>\n",
       "      <th>weight</th>\n",
       "      <th>acceleration</th>\n",
       "    </tr>\n",
       "  </thead>\n",
       "  <tbody>\n",
       "    <tr>\n",
       "      <th>0</th>\n",
       "      <td>linear</td>\n",
       "      <td>-0.000785</td>\n",
       "      <td>-0.042972</td>\n",
       "      <td>-0.005685</td>\n",
       "      <td>0.148258</td>\n",
       "    </tr>\n",
       "    <tr>\n",
       "      <th>1</th>\n",
       "      <td>ridge</td>\n",
       "      <td>-0.008166</td>\n",
       "      <td>-0.024282</td>\n",
       "      <td>-0.005765</td>\n",
       "      <td>0.003372</td>\n",
       "    </tr>\n",
       "    <tr>\n",
       "      <th>2</th>\n",
       "      <td>ridgeCV</td>\n",
       "      <td>-0.008166</td>\n",
       "      <td>-0.024282</td>\n",
       "      <td>-0.005765</td>\n",
       "      <td>0.003372</td>\n",
       "    </tr>\n",
       "    <tr>\n",
       "      <th>3</th>\n",
       "      <td>lasso</td>\n",
       "      <td>-0.002642</td>\n",
       "      <td>-0.041614</td>\n",
       "      <td>-0.005713</td>\n",
       "      <td>0.000000</td>\n",
       "    </tr>\n",
       "    <tr>\n",
       "      <th>4</th>\n",
       "      <td>lassoCV</td>\n",
       "      <td>-0.002642</td>\n",
       "      <td>-0.041614</td>\n",
       "      <td>-0.005713</td>\n",
       "      <td>0.000000</td>\n",
       "    </tr>\n",
       "    <tr>\n",
       "      <th>5</th>\n",
       "      <td>elastic</td>\n",
       "      <td>-0.002799</td>\n",
       "      <td>-0.042320</td>\n",
       "      <td>-0.005667</td>\n",
       "      <td>0.000000</td>\n",
       "    </tr>\n",
       "    <tr>\n",
       "      <th>6</th>\n",
       "      <td>elasticCV</td>\n",
       "      <td>-0.002799</td>\n",
       "      <td>-0.042320</td>\n",
       "      <td>-0.005667</td>\n",
       "      <td>0.000000</td>\n",
       "    </tr>\n",
       "  </tbody>\n",
       "</table>\n",
       "</div>"
      ],
      "text/plain": [
       "       index  displacement  horsepower    weight  acceleration\n",
       "0     linear     -0.000785   -0.042972 -0.005685      0.148258\n",
       "1      ridge     -0.008166   -0.024282 -0.005765      0.003372\n",
       "2    ridgeCV     -0.008166   -0.024282 -0.005765      0.003372\n",
       "3      lasso     -0.002642   -0.041614 -0.005713      0.000000\n",
       "4    lassoCV     -0.002642   -0.041614 -0.005713      0.000000\n",
       "5    elastic     -0.002799   -0.042320 -0.005667      0.000000\n",
       "6  elasticCV     -0.002799   -0.042320 -0.005667      0.000000"
      ]
     },
     "execution_count": 32,
     "metadata": {},
     "output_type": "execute_result"
    }
   ],
   "source": [
    "df_coef"
   ]
  },
  {
   "cell_type": "markdown",
   "metadata": {},
   "source": [
    "En cuanto a las métricas, el método de Ridge posee medidas de error menores y tanto r2 como ev mayores que los demás modelos, por lo cual tomaremos los coeficientes del modelo de Ridge con hipertuning de parámetros para realizar nuestro modelo.\n",
    "\n",
    "\n",
    "**mpg** = -0.008166* **displacement**-0.024282* **horsepower**-0.005765* **weight**+0.003372* **acceleration**"
   ]
  }
 ],
 "metadata": {
  "colab": {
   "provenance": [
    {
     "file_id": "1bM_VURBgZU4OKY_4wlgQNyoL8dlmZZ3a",
     "timestamp": 1734304470492
    }
   ]
  },
  "kernelspec": {
   "display_name": "Python 3",
   "language": "python",
   "name": "python3"
  },
  "language_info": {
   "codemirror_mode": {
    "name": "ipython",
    "version": 3
   },
   "file_extension": ".py",
   "mimetype": "text/x-python",
   "name": "python",
   "nbconvert_exporter": "python",
   "pygments_lexer": "ipython3",
   "version": "3.12.4"
  },
  "varInspector": {
   "cols": {
    "lenName": 16,
    "lenType": 16,
    "lenVar": 40
   },
   "kernels_config": {
    "python": {
     "delete_cmd_postfix": "",
     "delete_cmd_prefix": "del ",
     "library": "var_list.py",
     "varRefreshCmd": "print(var_dic_list())"
    },
    "r": {
     "delete_cmd_postfix": ") ",
     "delete_cmd_prefix": "rm(",
     "library": "var_list.r",
     "varRefreshCmd": "cat(var_dic_list()) "
    }
   },
   "types_to_exclude": [
    "module",
    "function",
    "builtin_function_or_method",
    "instance",
    "_Feature"
   ],
   "window_display": false
  }
 },
 "nbformat": 4,
 "nbformat_minor": 0
}
